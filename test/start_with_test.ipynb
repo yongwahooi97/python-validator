{
 "cells": [
  {
   "cell_type": "code",
   "execution_count": 1,
   "metadata": {},
   "outputs": [],
   "source": [
    "import pandas as pd\n",
    "import numpy as np\n",
    "from datetime import datetime\n",
    "\n",
    "import sys\n",
    "sys.path.append('..')\n",
    "from validator import start_with"
   ]
  },
  {
   "cell_type": "code",
   "execution_count": 4,
   "metadata": {},
   "outputs": [
    {
     "ename": "Exception",
     "evalue": "Invalid start with detected.",
     "output_type": "error",
     "traceback": [
      "\u001b[1;31m---------------------------------------------------------------------------\u001b[0m",
      "\u001b[1;31mException\u001b[0m                                 Traceback (most recent call last)",
      "Cell \u001b[1;32mIn[4], line 6\u001b[0m\n\u001b[0;32m      4\u001b[0m fileDate \u001b[39m=\u001b[39m curDate\u001b[39m.\u001b[39mstrftime(\u001b[39m\"\u001b[39m\u001b[39m%\u001b[39m\u001b[39my\u001b[39m\u001b[39m%\u001b[39m\u001b[39mm\u001b[39m\u001b[39m%d\u001b[39;00m\u001b[39m\"\u001b[39m)\n\u001b[0;32m      5\u001b[0m fileName \u001b[39m=\u001b[39m  fileDate \u001b[39m+\u001b[39m \u001b[39m\"\u001b[39m\u001b[39m_Start_With_Error_Log\u001b[39m\u001b[39m\"\u001b[39m\n\u001b[1;32m----> 6\u001b[0m start_with(df, [\u001b[39m'\u001b[39;49m\u001b[39mCategory\u001b[39;49m\u001b[39m'\u001b[39;49m], \u001b[39m'\u001b[39;49m\u001b[39mAB\u001b[39;49m\u001b[39m'\u001b[39;49m, filePath \u001b[39m+\u001b[39;49m fileName)\n",
      "File \u001b[1;32mc:\\Users\\yongooi2\\Desktop\\Project\\python-validator\\test\\..\\validator\\start_with.py:38\u001b[0m, in \u001b[0;36mstart_with\u001b[1;34m(data, targetColumn, condition, file)\u001b[0m\n\u001b[0;32m     36\u001b[0m \u001b[39mif\u001b[39;00m invalid:\n\u001b[0;32m     37\u001b[0m     log(file, logContent)\n\u001b[1;32m---> 38\u001b[0m     \u001b[39mraise\u001b[39;00m \u001b[39mException\u001b[39;00m(\u001b[39m'\u001b[39m\u001b[39mInvalid start with detected.\u001b[39m\u001b[39m'\u001b[39m)\n",
      "\u001b[1;31mException\u001b[0m: Invalid start with detected."
     ]
    }
   ],
   "source": [
    "df = pd.DataFrame({'ID': [1, 2, 2], 'Category': ['A1001', 'B1001', 'A1002']})\n",
    "curDate = datetime.now()\n",
    "filePath = '.\\\\Output\\\\'\n",
    "fileDate = curDate.strftime(\"%y%m%d\")\n",
    "fileName =  fileDate + \"_Start_With_Error_Log\"\n",
    "\n",
    "start_with(df, ['Category'], 'AB', filePath + fileName)"
   ]
  }
 ],
 "metadata": {
  "kernelspec": {
   "display_name": "Python 3",
   "language": "python",
   "name": "python3"
  },
  "language_info": {
   "codemirror_mode": {
    "name": "ipython",
    "version": 3
   },
   "file_extension": ".py",
   "mimetype": "text/x-python",
   "name": "python",
   "nbconvert_exporter": "python",
   "pygments_lexer": "ipython3",
   "version": "3.10.0"
  },
  "orig_nbformat": 4,
  "vscode": {
   "interpreter": {
    "hash": "24e36e7ea4d10ba9e7477aea9567a37ca5c4fc69c9e8e0a428100f652d1d97a2"
   }
  }
 },
 "nbformat": 4,
 "nbformat_minor": 2
}
