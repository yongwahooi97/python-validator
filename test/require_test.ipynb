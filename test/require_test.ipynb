{
 "cells": [
  {
   "cell_type": "code",
   "execution_count": 1,
   "metadata": {},
   "outputs": [],
   "source": [
    "import pandas as pd\n",
    "import numpy as np\n",
    "from datetime import datetime\n",
    "\n",
    "import sys\n",
    "sys.path.append('..')\n",
    "from validator import require"
   ]
  },
  {
   "cell_type": "code",
   "execution_count": 2,
   "metadata": {},
   "outputs": [
    {
     "ename": "FileNotFoundError",
     "evalue": "[Errno 2] No such file or directory: '.\\\\1Output\\\\230126_Require_Error_Log.txt'",
     "output_type": "error",
     "traceback": [
      "\u001b[1;31m---------------------------------------------------------------------------\u001b[0m",
      "\u001b[1;31mFileNotFoundError\u001b[0m                         Traceback (most recent call last)",
      "Cell \u001b[1;32mIn[2], line 6\u001b[0m\n\u001b[0;32m      4\u001b[0m fileDate \u001b[39m=\u001b[39m curDate\u001b[39m.\u001b[39mstrftime(\u001b[39m\"\u001b[39m\u001b[39m%\u001b[39m\u001b[39my\u001b[39m\u001b[39m%\u001b[39m\u001b[39mm\u001b[39m\u001b[39m%d\u001b[39;00m\u001b[39m\"\u001b[39m)\n\u001b[0;32m      5\u001b[0m fileName \u001b[39m=\u001b[39m  fileDate \u001b[39m+\u001b[39m \u001b[39m\"\u001b[39m\u001b[39m_Require_Error_Log\u001b[39m\u001b[39m\"\u001b[39m\n\u001b[1;32m----> 6\u001b[0m require(df, [\u001b[39m'\u001b[39;49m\u001b[39mName\u001b[39;49m\u001b[39m'\u001b[39;49m], filePath \u001b[39m+\u001b[39;49m fileName)\n",
      "File \u001b[1;32mc:\\Users\\yongooi2\\Desktop\\Project\\python-validator\\test\\..\\validator\\require.py:35\u001b[0m, in \u001b[0;36mrequire\u001b[1;34m(data, targetColumn, file)\u001b[0m\n\u001b[0;32m     32\u001b[0m         logContent \u001b[39m+\u001b[39m\u001b[39m=\u001b[39m \u001b[39m'\u001b[39m\u001b[39m\\n\u001b[39;00m\u001b[39m\\n\u001b[39;00m\u001b[39m------------\u001b[39m\u001b[39m\\n\u001b[39;00m\u001b[39m'\u001b[39m\n\u001b[0;32m     34\u001b[0m \u001b[39mif\u001b[39;00m invalid:\n\u001b[1;32m---> 35\u001b[0m     log(file, logContent)\n\u001b[0;32m     36\u001b[0m     \u001b[39mraise\u001b[39;00m \u001b[39mException\u001b[39;00m(\u001b[39m'\u001b[39m\u001b[39mNull or empty value detected.\u001b[39m\u001b[39m'\u001b[39m)\n",
      "File \u001b[1;32mc:\\Users\\yongooi2\\Desktop\\Project\\python-validator\\test\\..\\validator\\functions.py:24\u001b[0m, in \u001b[0;36mlog\u001b[1;34m(file, content)\u001b[0m\n\u001b[0;32m     22\u001b[0m \u001b[39mprint\u001b[39m(e, file\u001b[39m=\u001b[39mf)\n\u001b[0;32m     23\u001b[0m f\u001b[39m.\u001b[39mclose()\n\u001b[1;32m---> 24\u001b[0m \u001b[39mraise\u001b[39;00m e\n",
      "File \u001b[1;32mc:\\Users\\yongooi2\\Desktop\\Project\\python-validator\\test\\..\\validator\\functions.py:13\u001b[0m, in \u001b[0;36mlog\u001b[1;34m(file, content)\u001b[0m\n\u001b[0;32m     11\u001b[0m \u001b[39mtry\u001b[39;00m:\n\u001b[0;32m     12\u001b[0m     date \u001b[39m=\u001b[39m datetime\u001b[39m.\u001b[39mnow()\n\u001b[1;32m---> 13\u001b[0m     f \u001b[39m=\u001b[39m \u001b[39mopen\u001b[39;49m(file \u001b[39m+\u001b[39;49m \u001b[39m'\u001b[39;49m\u001b[39m.txt\u001b[39;49m\u001b[39m'\u001b[39;49m, \u001b[39m\"\u001b[39;49m\u001b[39ma\u001b[39;49m\u001b[39m\"\u001b[39;49m)\n\u001b[0;32m     14\u001b[0m     \u001b[39mprint\u001b[39m(\u001b[39m'\u001b[39m\u001b[39m\\n\u001b[39;00m\u001b[39m========================\u001b[39m\u001b[39m\\n\u001b[39;00m\u001b[39m'\u001b[39m, file\u001b[39m=\u001b[39mf)\n\u001b[0;32m     15\u001b[0m     \u001b[39mprint\u001b[39m(\u001b[39m'\u001b[39m\u001b[39mDate: \u001b[39m\u001b[39m'\u001b[39m\u001b[39m+\u001b[39m date\u001b[39m.\u001b[39mstrftime(\u001b[39m\"\u001b[39m\u001b[39m%d\u001b[39;00m\u001b[39m/\u001b[39m\u001b[39m%\u001b[39m\u001b[39mm/\u001b[39m\u001b[39m%\u001b[39m\u001b[39my\u001b[39m\u001b[39m\"\u001b[39m) \u001b[39m+\u001b[39m \u001b[39m'\u001b[39m\u001b[39m\\n\u001b[39;00m\u001b[39mTime: \u001b[39m\u001b[39m'\u001b[39m \u001b[39m+\u001b[39m date\u001b[39m.\u001b[39mstrftime(\u001b[39m\"\u001b[39m\u001b[39m%X\u001b[39;00m\u001b[39m\"\u001b[39m), file\u001b[39m=\u001b[39mf)\n",
      "\u001b[1;31mFileNotFoundError\u001b[0m: [Errno 2] No such file or directory: '.\\\\1Output\\\\230126_Require_Error_Log.txt'"
     ]
    }
   ],
   "source": [
    "df = pd.DataFrame({'ID': [1, 2, 2], 'Name': ['Alex', np.nan, 'Ella']})\n",
    "curDate = datetime.now()\n",
    "filePath = '.\\\\Output\\\\'\n",
    "fileDate = curDate.strftime(\"%y%m%d\")\n",
    "fileName =  fileDate + \"_Require_Error_Log\"\n",
    "\n",
    "require(df, ['Name'], filePath + fileName)"
   ]
  }
 ],
 "metadata": {
  "kernelspec": {
   "display_name": "Python 3",
   "language": "python",
   "name": "python3"
  },
  "language_info": {
   "codemirror_mode": {
    "name": "ipython",
    "version": 3
   },
   "file_extension": ".py",
   "mimetype": "text/x-python",
   "name": "python",
   "nbconvert_exporter": "python",
   "pygments_lexer": "ipython3",
   "version": "3.10.0 (tags/v3.10.0:b494f59, Oct  4 2021, 19:00:18) [MSC v.1929 64 bit (AMD64)]"
  },
  "orig_nbformat": 4,
  "vscode": {
   "interpreter": {
    "hash": "24e36e7ea4d10ba9e7477aea9567a37ca5c4fc69c9e8e0a428100f652d1d97a2"
   }
  }
 },
 "nbformat": 4,
 "nbformat_minor": 2
}
